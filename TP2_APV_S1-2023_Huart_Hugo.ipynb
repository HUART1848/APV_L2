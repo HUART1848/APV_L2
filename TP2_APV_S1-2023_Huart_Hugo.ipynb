{
 "cells": [
  {
   "cell_type": "markdown",
   "id": "b13c57c2",
   "metadata": {},
   "source": [
    "# HEIG-Vd - Apprentissage supervisé (APV)"
   ]
  },
  {
   "cell_type": "markdown",
   "id": "00163928",
   "metadata": {},
   "source": [
    "## Travail Pratique 02 - Régression logistique"
   ]
  },
  {
   "cell_type": "markdown",
   "id": "78bab2ca",
   "metadata": {},
   "source": [
    "<div class=\"alert alert-block alert-success\">\n",
    "<b>Informations générales </b>\n",
    "</div>\n",
    "\n",
    "**Professeur**: Stephan Robert\n",
    "\n",
    "**Assistant(s)**: Félicien Hêche\n",
    "\n",
    "**Contact**: stephan.o.robert@gmail.com, felicien.heche@gmail.com ou via Teams\n",
    "\n",
    "**Rendu**: \n",
    "\n",
    "- Date: 18 ocrobre 2023 \n",
    "- Modalité: Travail individuel. Une fois complétées, copiez les réponses dans le ficher \"**TP2_APV_S1-2023_Nom_Prenom.*****\" (*** = ce que vous voulez qui soit lisible pour nous: .pdf, .html, ...) en remplaçant Nom et Prenom par les votres puis uploader votre fichier sur Cyberlearn.\n",
    "- Note: Ce TP est noté sur 6.\n",
    "\n",
    "**Étudiant**:\n",
    "\n",
    "- Hugo Huart\n",
    "\n",
    "<div class=\"alert alert-block alert-success\">\n",
    "\n",
    "<b>But du TP </b>\n",
    "</div>\n",
    "\n",
    "Le but de ce deuxième TP est d'étudier la régression logistique à une seule variable. \n",
    "\n",
    "\n",
    "<!---\n",
    "<div class=\"alert alert-block alert-info\">\n",
    "<b>Rappel </b>\n",
    "</div>\n",
    "-->\n",
    "\n",
    "<div class=\"alert alert-block alert-success\">\n",
    "<b>Table des matières </b>\n",
    "</div>\n",
    "\n",
    "1. Régression logistique\n",
    ">* Visualisation des données\n",
    ">* Implémentation\n",
    ">* Loss function et gradient\n",
    ">* Optimisation des paramètres\n",
    ">* Evaluation de la régression logistique\n",
    "\n",
    "2. Régularisation de la fonction logistique\n",
    ">* Data visualisation\n",
    ">* Kernel trick\n",
    ">* Loss function et gradient\n",
    ">* Seuil de décision\n",
    "\n",
    "3. Régression polynomiale\n",
    ">* Visualisation du dataset\n",
    ">* Régression polynomiale\n",
    ">* Evaluation de notre modèle\n",
    ">* Under vs Overfitting\n"
   ]
  },
  {
   "cell_type": "markdown",
   "id": "545e9942",
   "metadata": {},
   "source": [
    "## 1. Régression logistique"
   ]
  },
  {
   "cell_type": "markdown",
   "id": "ad51eb07",
   "metadata": {},
   "source": [
    "Pour ce premier exercice, nous allons construire une régression logistique afin de déterminer si un étudiant doit être accepté dans une université ou non. Pour décider de cela, nous avons à notre disposition les résultats de chaque étudiant à deux examens. Nous possédons également, des données historiques des étudiants des autres années. Plus précisément, nous connaissons leur score à ce même examens ainsi que la décision d'admissions. Ces informations sont contenues dans un dataset. "
   ]
  },
  {
   "cell_type": "markdown",
   "id": "26973e8f",
   "metadata": {},
   "source": [
    "Nous allons donc construire un classificateur qui estime la probabilité d'admission, basé sur le score aux deux examens."
   ]
  },
  {
   "cell_type": "markdown",
   "id": "20e7f990",
   "metadata": {},
   "source": [
    "### 1.1 Visualisation des données"
   ]
  },
  {
   "cell_type": "markdown",
   "id": "6625ec54",
   "metadata": {},
   "source": [
    "Comme d'habitude, nous allons commencer par essayer de comprendre un minimum les données avec lesquelles nous allons travailler. Pour faire cela, nous allons donc commencer par visualiser ces données."
   ]
  },
  {
   "cell_type": "code",
   "execution_count": 1,
   "id": "0876e86e",
   "metadata": {},
   "outputs": [],
   "source": [
    "import numpy as np\n",
    "import pandas as pd\n",
    "import matplotlib as mpl\n",
    "import matplotlib.pyplot as plt\n",
    "from matplotlib import rc, cm\n",
    "from scipy import optimize"
   ]
  },
  {
   "cell_type": "code",
   "execution_count": 2,
   "id": "008d3fdc",
   "metadata": {},
   "outputs": [],
   "source": [
    "with open('data/ex2data1.txt') as f1:\n",
    "    dataset_1 = np.loadtxt(f1, delimiter = ',',dtype = 'float', usecols = None)\n",
    "\n",
    "X = dataset_1[:, :-1]\n",
    "Y = dataset_1[:, 2]\n",
    "KO = np.where(Y == 0)[0]\n",
    "OK = np.where(Y)[0]"
   ]
  },
  {
   "cell_type": "code",
   "execution_count": 3,
   "id": "8ad170bd-ddcc-4550-8a4a-cdd846c976e3",
   "metadata": {},
   "outputs": [],
   "source": [
    "def simple_scatter(x, y, figax=None, color=\"red\", edgecolor=None, marker=\"x\", xlab=\"\", ylab=\"\", legend=\"\", xlim=None, ylim=None, regression=None):\n",
    "    fig, ax = figax if figax is not None else plt.subplots()\n",
    "    \n",
    "    ax.scatter(x, y, color=color, edgecolor=edgecolor, marker=marker, label=legend)\n",
    "\n",
    "    if regression is not None:\n",
    "        intercept, slope = regression\n",
    "        ax.axline((0, intercept), slope=slope)\n",
    "\n",
    "    if xlim is not None:\n",
    "        left, right = xlim\n",
    "        ax.set_xlim(left=left, right=right)\n",
    "\n",
    "    if ylim is not None:\n",
    "        bottom, top = ylim\n",
    "        ax.set_ylim(bottom=bottom, top=top)\n",
    "    \n",
    "    ax.set_xlabel(xlab)\n",
    "    ax.set_ylabel(ylab)"
   ]
  },
  {
   "cell_type": "code",
   "execution_count": 4,
   "id": "5c5b0863",
   "metadata": {},
   "outputs": [
    {
     "data": {
      "text/plain": [
       "<matplotlib.legend.Legend at 0x2387fee6f30>"
      ]
     },
     "execution_count": 4,
     "metadata": {},
     "output_type": "execute_result"
    },
    {
     "data": {
      "image/png": "[encoded data removed]",
      "text/plain": [
       "<Figure size 640x480 with 1 Axes>"
      ]
     },
     "metadata": {},
     "output_type": "display_data"
    }
   ],
   "source": [
    "fig, ax = plt.subplots()\n",
    "\n",
    "simple_scatter(X[KO][:, 0], X[KO][:, 1], figax=(fig, ax), marker=\"o\", color=\"darkkhaki\", edgecolor=\"black\", legend=\"Not admitted\")\n",
    "simple_scatter(X[OK][:, 0], X[OK][:, 1], figax=(fig, ax), marker=\"+\", color=\"black\", xlab=\"Exam 1 Score\", ylab=\"Exam 2 Score\", legend=\"Admitted\", xlim=(25, 105), ylim=(25, 105))\n",
    "\n",
    "ax.legend()"
   ]
  },
  {
   "cell_type": "markdown",
   "id": "055d4184",
   "metadata": {},
   "source": [
    "## 1.2 Implémentation"
   ]
  },
  {
   "cell_type": "markdown",
   "id": "004272ae",
   "metadata": {},
   "source": [
    "Avant de commencer, rappelons que la regression logistique est définie par\n",
    "$$\n",
    "h(\\Theta) = g(\\Theta^{t}x) = \\frac{1}{1 + e^{-\\Theta^{t}x}}\n",
    "$$\n",
    "où $g$ est la sigmoid\n",
    "$$\n",
    "g(z) := \\frac{1}{1 + e^{-z}}\n",
    "$$"
   ]
  },
  {
   "cell_type": "markdown",
   "id": "148494f1-6cad-4491-801e-1b977484b150",
   "metadata": {},
   "source": [
    "Nous allons maintenant implémenter ces fonctions, ce qui va être utile pour le reste du TP."
   ]
  },
  {
   "cell_type": "code",
   "execution_count": 5,
   "id": "3de0e214",
   "metadata": {},
   "outputs": [],
   "source": [
    "def sigmoid(z):\n",
    "    return 1.0 / (1.0 + np.exp(-z))"
   ]
  },
  {
   "cell_type": "code",
   "execution_count": 6,
   "id": "0b1b97da",
   "metadata": {},
   "outputs": [],
   "source": [
    "def h_fct(theta, x):\n",
    "    return sigmoid(np.inner(theta, x))"
   ]
  },
  {
   "cell_type": "code",
   "execution_count": 7,
   "id": "2552c09a",
   "metadata": {},
   "outputs": [
    {
     "data": {
      "text/plain": [
       "3.7200759760208356e-44"
      ]
     },
     "execution_count": 7,
     "metadata": {},
     "output_type": "execute_result"
    }
   ],
   "source": [
    "# testing the sigmoid function\n",
    "sigmoid(-100)"
   ]
  },
  {
   "cell_type": "markdown",
   "id": "eb8bdc69",
   "metadata": {},
   "source": [
    "## 1.3 Loss function et gradient"
   ]
  },
  {
   "cell_type": "markdown",
   "id": "ea4f59bf",
   "metadata": {},
   "source": [
    "Nous allons maintenant implémenter la loss fonction, rappelons que cette dernière est\n",
    "$$\n",
    "J(\\Theta) = -\\frac{1}{m} \\left( \\sum_{i=0}^{m}y_{i}\\log(h(x_{i})) + (1 - y_{i})\\log(1 - h(x_{i}))     \\right)\n",
    "$$\n",
    "Et le gradient de cette fonction est un vecteur de même longueur que $\\Theta$ avec\n",
    "$$\n",
    "\\frac{\\partial J(\\Theta)}{\\partial \\theta_{0}} = \\frac{1}{m} \\sum_{i=1}^{m}(h(x_{i}) - y_{i})\n",
    "$$\n",
    "et pour $j>0$, on obtient.\n",
    "$$\n",
    "\\frac{\\partial J(\\Theta)}{\\partial \\theta_{j}} = \\frac{1}{m} \\sum_{i=1}^{m}(h(x_{i}) - y_{i})(x_{i})_{j}\n",
    "$$\n",
    "Remarquez que le gradient ressemble beaucoup au gradient de la régression linéaire."
   ]
  },
  {
   "cell_type": "code",
   "execution_count": 8,
   "id": "a4bf4756",
   "metadata": {},
   "outputs": [],
   "source": [
    "def lossFunction(theta, x, y):\n",
    "    m = len(x)\n",
    "    h = h_fct(theta, x)\n",
    "    \n",
    "    return (-1.0 / m) * np.sum(y * np.log(h) + (1.0 - y) * np.log(1.0 - h)) "
   ]
  },
  {
   "cell_type": "markdown",
   "id": "b3d59c17",
   "metadata": {},
   "source": [
    "## 1.4 Optimisation des paramètres"
   ]
  },
  {
   "cell_type": "markdown",
   "id": "be521e02",
   "metadata": {},
   "source": [
    "Dans le TP précédent, nous avons trouvé les paramètres optimaux de la régression linéaire en utilisant notre propre implémentation de la descente du gradient. \n"
   ]
  },
  {
   "cell_type": "markdown",
   "id": "2384a690",
   "metadata": {},
   "source": [
    "En pratique, il est plus commun d'utiliser des packages spécialement conçu pour ce genre de problème. Dans ce TP, nous allons utiliser $\\texttt{scipy.optimize.minimize}$ pour déterminer $\\Theta$. \n",
    "Si la fonction coût a été correctement implémentée $\\texttt{scipy.optimize.minimize}$ va converger vers les paramètres optimaux $\\Theta$."
   ]
  },
  {
   "cell_type": "code",
   "execution_count": 9,
   "id": "dea90ce4",
   "metadata": {},
   "outputs": [
    {
     "name": "stdout",
     "output_type": "stream",
     "text": [
      "[-25.16130062   0.20623142   0.20147143]\n"
     ]
    }
   ],
   "source": [
    "theta = (0.0, 0.0, 0.0)\n",
    "newX = np.concatenate((np.ones((100, 1)), X), axis=1)\n",
    "\n",
    "result = optimize.minimize(lambda guess: lossFunction(guess, newX, Y), theta, method=\"Nelder-Mead\") # Fonctionne bien avec la méthode 'Nelder-Mead'\n",
    "theta_opt = result.x\n",
    "print(theta_opt)"
   ]
  },
  {
   "cell_type": "markdown",
   "id": "f2fa2ff8",
   "metadata": {},
   "source": [
    "On peut maintenant utiliser ce paramètres $\\Theta$ pour tracer un seuil de jugement sur le training dataset."
   ]
  },
  {
   "cell_type": "code",
   "execution_count": 10,
   "id": "c4607417",
   "metadata": {},
   "outputs": [
    {
     "data": {
      "text/plain": [
       "<matplotlib.legend.Legend at 0x2382b92a2a0>"
      ]
     },
     "execution_count": 10,
     "metadata": {},
     "output_type": "execute_result"
    },
    {
     "data": {
      "image/png": "[encoded data removed]",
      "text/plain": [
       "<Figure size 640x480 with 1 Axes>"
      ]
     },
     "metadata": {},
     "output_type": "display_data"
    }
   ],
   "source": [
    "fig, ax = plt.subplots()\n",
    "\n",
    "intercept = -theta_opt[0] / theta_opt[2]\n",
    "slope = -theta_opt[1] / theta_opt[2]\n",
    "\n",
    "simple_scatter(X[KO][:, 0], X[KO][:, 1], figax=(fig, ax), marker=\"o\", color=\"darkkhaki\", edgecolor=\"black\", legend=\"Not admitted\")\n",
    "simple_scatter(X[OK][:, 0], X[OK][:, 1], figax=(fig, ax), marker=\"+\", color=\"black\", xlab=\"Exam 1 Score\", ylab=\"Exam 2 Score\", legend=\"Admitted\", xlim=(25, 105), ylim=(25, 105), regression=(intercept, slope))\n",
    "\n",
    "ax.legend()"
   ]
  },
  {
   "cell_type": "markdown",
   "id": "babde9db",
   "metadata": {},
   "source": [
    "### 1.5 Evaluation de la régression logisitique"
   ]
  },
  {
   "cell_type": "markdown",
   "id": "58d52370",
   "metadata": {},
   "source": [
    "Maintenant que nous connaissons les paramètres optimaux de notre régression logistique, il est possible de l'utiliser afin de savoir pour décider si un étudiant doit être accepté ou pas. Pour un étudiant avec un score de $45$ à l'examen $1$ et $85$ à l'examen $2$. Nous devrions trouver un score d'environ $0.7763$."
   ]
  },
  {
   "cell_type": "code",
   "execution_count": 11,
   "id": "9ce276dc",
   "metadata": {},
   "outputs": [
    {
     "data": {
      "text/plain": [
       "0.7762915904112411"
      ]
     },
     "execution_count": 11,
     "metadata": {},
     "output_type": "execute_result"
    }
   ],
   "source": [
    "score = sigmoid(theta_opt[0] + theta_opt[1] * 45 + theta_opt[2] * 85)\n",
    "score"
   ]
  },
  {
   "cell_type": "markdown",
   "id": "df808d17",
   "metadata": {},
   "source": [
    "## 2. Régularisation de la fonction logistique"
   ]
  },
  {
   "cell_type": "markdown",
   "id": "07db2edd",
   "metadata": {},
   "source": [
    "###  2.1 Data visualisation"
   ]
  },
  {
   "cell_type": "markdown",
   "id": "a4db12a6",
   "metadata": {},
   "source": [
    "Pour cet exercice, nous allons utiliser un nouveau dataset. Ce dataset, que vous pouvez trouver dans $\\texttt{ex2data2.txt}$, contient le score de puces éléctroniques à deux différents tests ainsi que si la puce a été jugée conforme à certains critères de qualité ou pas. Plus précisément, $y$ vaut un si la puce a été jugée conforme aux critères de qualités et $y=0$ sinon. Comme avant, commençons par visualiser notre dataset."
   ]
  },
  {
   "cell_type": "code",
   "execution_count": 12,
   "id": "30e29ea1",
   "metadata": {},
   "outputs": [],
   "source": [
    "with open(\"data/ex2data2.txt\") as f2:\n",
    "    dataset_2 = np.loadtxt(f2, delimiter = ',',dtype = 'float', usecols = None)\n",
    "    \n",
    "X = dataset_2[:, :-1]\n",
    "Y = dataset_2[:, 2]\n",
    "KO = np.where(Y == 0)[0]\n",
    "OK = np.where(Y)[0]"
   ]
  },
  {
   "cell_type": "code",
   "execution_count": 13,
   "id": "ad26ca0c",
   "metadata": {},
   "outputs": [
    {
     "data": {
      "text/plain": [
       "<matplotlib.legend.Legend at 0x2382b929be0>"
      ]
     },
     "execution_count": 13,
     "metadata": {},
     "output_type": "execute_result"
    },
    {
     "data": {
      "image/png": "[encoded data removed]",
      "text/plain": [
       "<Figure size 640x480 with 1 Axes>"
      ]
     },
     "metadata": {},
     "output_type": "display_data"
    }
   ],
   "source": [
    "fig, ax = plt.subplots()\n",
    "\n",
    "simple_scatter(X[KO][:, 0], X[KO][:, 1], figax=(fig, ax), marker=\"o\", color=\"darkkhaki\", edgecolor=\"black\", legend=\"y = 0\")\n",
    "simple_scatter(X[OK][:, 0], X[OK][:, 1], figax=(fig, ax), marker=\"+\", color=\"black\", xlab=\"Test 1\", ylab=\"Test 2\", legend=\"y = 1\", xlim=(-1.0, 1.2), ylim=(-1.0, 1.2))\n",
    "\n",
    "ax.legend()"
   ]
  },
  {
   "cell_type": "markdown",
   "id": "d64cfec1",
   "metadata": {},
   "source": [
    "Remarquer qu'on ne peut pas ne pas séparer les $y=1$ et les $y=0$ par une fonction linéaire. Par conséquent, une application directe de la régression logistique fournira de mauvais résultats sur ce dataset."
   ]
  },
  {
   "cell_type": "markdown",
   "id": "5affc7e4",
   "metadata": {},
   "source": [
    "### 2.2 Kernel trick"
   ]
  },
  {
   "cell_type": "markdown",
   "id": "f7de27ad",
   "metadata": {},
   "source": [
    "Une manière de contourner cette limitation est de plonger nos données initial dans un espace de plus grande dimension où il sera possible de séparer nos points linéairement. C'est ce que nous appelons le 'kernel trick' (astuce du noyau)."
   ]
  },
  {
   "cell_type": "markdown",
   "id": "cc8edca9",
   "metadata": {},
   "source": [
    "Pour faire cela, nous allons utiliser une fonction 'mapFeature' défini par\n",
    "$$\n",
    "(x_{1}, x_{2}) \\mapsto \\left(\n",
    "\\begin{array}{c}\n",
    "1 \\\\\n",
    "x_1 \\\\\n",
    "x_2\\\\\n",
    "x_1^2\\\\\n",
    "x_1x_2\\\\\n",
    "x_2^2\\\\\n",
    "x_1^3\\\\\n",
    "\\vdots \\\\\n",
    "x_1x_2^5\\\\\n",
    "x_2^6\n",
    "\\end{array} \n",
    "\\right)\n",
    "$$\n",
    "plus précisément l'image de $(x_{1}, x_{2})$ est composé des monômes de la forme $x_{1}^{i-j}x_{2}^{j}$ avec $i$ allant de $0$ à $6$ et $j$ allant de $0$ à $i$."
   ]
  },
  {
   "cell_type": "code",
   "execution_count": 14,
   "id": "e61a1700",
   "metadata": {},
   "outputs": [],
   "source": [
    "def mapFeature(x1, x2):\n",
    "    ret = []\n",
    "\n",
    "    for i in range(0, 7):\n",
    "        for j in range(0, i + 1):\n",
    "            ret.append(x1**(i-j) * x2**(j))\n",
    "\n",
    "    return np.array(ret).T"
   ]
  },
  {
   "cell_type": "markdown",
   "id": "1f0c3a6a",
   "metadata": {},
   "source": [
    "Cette fonction va nous permettre de plonger notre dataset de dimension $2$ dans un espace de dimension $28$. Ensuite, nous allons appliquer une régression logistique linéaire dans cette espace, ce qui nous permettra de construire un seuil de décisions qui semblera plus complexe lorsque nour le projeterons dans notre espace inital à deux dimensions. "
   ]
  },
  {
   "cell_type": "code",
   "execution_count": 15,
   "id": "c97140e0",
   "metadata": {},
   "outputs": [],
   "source": [
    "map_X = mapFeature(X[:, 0], X[:, 1])"
   ]
  },
  {
   "cell_type": "markdown",
   "id": "766e0167",
   "metadata": {},
   "source": [
    "### 2.3 Loss function et gradient"
   ]
  },
  {
   "cell_type": "markdown",
   "id": "7634dfaa",
   "metadata": {},
   "source": [
    "Cette approche nous permet de construire des modèles plus performants. Mais cela est également plus susceptible de mener à de l'overffiting. Pour éviter cela, nous allons régulariser notre loss fonction. Plus précisément, la loss fonction devient\n",
    "$$\n",
    "J(\\Theta) = -\\frac{1}{m} \\left( \\sum_{i=0}^{m}y_{i}\\log(h(x)_{i}) + (1 - y_{i})\\log(1 - h(x)_{i}) \\right)\n",
    " + \\frac{\\lambda}{2m} \\sum_{j=1}^{n} \\theta_{j}^{2}   \n",
    "$$\n",
    "Noter que la deuxième somme commence seulement à l'indice $1$. Ce qui implique que nous ne régularisons pas sur le terme $\\theta_{0}$. En particulier, les dérivées partielles deviennent\n",
    "$$\n",
    "\\frac{\\partial J(\\mathbf{\\Theta})}{\\partial\\theta_0}=\\frac{1}{m}\\sum_{i=1}^{m}(h(x_i)-y_i)(x_i)_{0} \n",
    "$$\n",
    "pour $j=0$ et pour $j > 1$, \n",
    "$$\n",
    "\\frac{\\partial J(\\mathbf{\\Theta})}{\\partial \\theta_j}=\\left[\\frac{1}{m}\\sum_{i=1}^{m}\\left(h(\\mathbf{x}_i)-y_i\\right)(x_i)_j{+\\frac{\\lambda}{m}\\theta_j}\\right]\n",
    "$$"
   ]
  },
  {
   "cell_type": "code",
   "execution_count": 16,
   "id": "b5f00486",
   "metadata": {},
   "outputs": [],
   "source": [
    "def lossFunctionReg(theta, x, y, lamb):\n",
    "    m = len(x)\n",
    "    h = h_fct(theta, x)\n",
    "\n",
    "    return (-1.0 / m) * np.sum(y * np.log(h) + (1.0 - y) * np.log(1.0 - h)) + (lamb / (2.0 * m)) * np.sum(theta[1:]**2)"
   ]
  },
  {
   "cell_type": "markdown",
   "id": "5112b100",
   "metadata": {},
   "source": [
    "### 2.5 Seuil de décision"
   ]
  },
  {
   "cell_type": "markdown",
   "id": "74b4e579",
   "metadata": {},
   "source": [
    "Comme pour l'exercice 1, nous allons maintenant utiliser $\\texttt{scipy.optimize.minimize}$ afin de déterminier les paramètres optimaux."
   ]
  },
  {
   "cell_type": "code",
   "execution_count": 17,
   "id": "f7d4fcdd",
   "metadata": {},
   "outputs": [],
   "source": [
    "theta = np.zeros(28)\n",
    "lamb = 0.5\n",
    "\n",
    "result = optimize.minimize(lambda guess: lossFunctionReg(guess, map_X, Y, lamb), theta)\n",
    "theta_opt = result.x"
   ]
  },
  {
   "cell_type": "markdown",
   "id": "bb550608",
   "metadata": {},
   "source": [
    "Nous allons maintenant tracer le seuil de décision dans l'espace initial à deux dimensions. Pour faire cela, nous pouvons calculer les valeurs sur une grille (après l'avoir plongé dans l'espace à $28$ dimensions) et tracer les valeurs pour lesquelles les prédictions changent de $y=0$ à $y=1$."
   ]
  },
  {
   "cell_type": "code",
   "execution_count": 18,
   "id": "ce8046b7-848d-4440-aa64-c9a7efd60abc",
   "metadata": {},
   "outputs": [],
   "source": [
    "def simple_boundary(theta, xs, ys, figax=None, dimcount=50, legend=\"\"):\n",
    "    fig, ax = figax if figax is not None else plt.subplots()\n",
    "\n",
    "    x1, x2 = xs\n",
    "    y1, y2 = ys\n",
    "\n",
    "    U, V = np.meshgrid(np.linspace(x1, x2, dimcount), np.linspace(y1, y2, dimcount))\n",
    "    grid = np.column_stack((U.ravel(), V.ravel()))\n",
    "\n",
    "    grid = mapFeature(grid[:, 0], grid[:, 1])\n",
    "    Z = sigmoid(np.dot(grid, theta)).reshape((len(U), len(V)))\n",
    "\n",
    "    ax.contour(U, V, Z, levels=[0.5])"
   ]
  },
  {
   "cell_type": "code",
   "execution_count": 19,
   "id": "8efadc20",
   "metadata": {},
   "outputs": [
    {
     "data": {
      "text/plain": [
       "<matplotlib.legend.Legend at 0x238293b03b0>"
      ]
     },
     "execution_count": 19,
     "metadata": {},
     "output_type": "execute_result"
    },
    {
     "data": {
      "image/png": "[encoded data removed]",
      "text/plain": [
       "<Figure size 640x480 with 1 Axes>"
      ]
     },
     "metadata": {},
     "output_type": "display_data"
    }
   ],
   "source": [
    "xs = (min(X[:, 0]), max(X[:, 0]))\n",
    "ys = (min(X[:, 1]), max(X[:, 1]))\n",
    "\n",
    "fig, ax = plt.subplots()\n",
    "\n",
    "simple_scatter(X[KO][:, 0], X[KO][:, 1], figax=(fig, ax), marker=\"o\", color=\"darkkhaki\", edgecolor=\"black\", legend=\"y = 0\")\n",
    "simple_scatter(X[OK][:, 0], X[OK][:, 1], figax=(fig, ax), marker=\"+\", color=\"black\", xlab=\"Test 1\", ylab=\"Test 2\", legend=\"y = 1\", xlim=(-1.0, 1.2), ylim=(-1.0, 1.2))\n",
    "simple_boundary(theta_opt, xs, ys, figax=(fig, ax))\n",
    "\n",
    "ax.legend()"
   ]
  },
  {
   "cell_type": "markdown",
   "id": "049357ed",
   "metadata": {},
   "source": [
    "Répéter maintenant la procédure ci-dessus en changeant la valeur de $\\lambda$. Que pouvez-vous observer?\n"
   ]
  },
  {
   "cell_type": "markdown",
   "id": "f48c8601-37ec-4907-9490-6568289df379",
   "metadata": {},
   "source": [
    "**Réponse**: Avec des valeurs plus petites (jusqu'à 0), un overfitting semble apparaître et la forme du contour épouse un peu trop les points de données. Avec des valeurs plus grande c'est l'underfitting qui fait son apparition avec un contour qui se décale et colle moins bien les données."
   ]
  },
  {
   "cell_type": "markdown",
   "id": "60b25f8f",
   "metadata": {},
   "source": [
    "## 3. Régression polynomiale"
   ]
  },
  {
   "cell_type": "markdown",
   "id": "49a5b364",
   "metadata": {},
   "source": [
    "Dans cette exercice, nous allons construire une régression polynomiale et étudier l'erreur de notre modèle sur le training et le validation dataset en fonction du degré de notre polynôme."
   ]
  },
  {
   "cell_type": "markdown",
   "id": "98245ad2",
   "metadata": {},
   "source": [
    "### 3.1 Visualisation du dataset"
   ]
  },
  {
   "cell_type": "markdown",
   "id": "2c2aaa21",
   "metadata": {},
   "source": [
    "Comme d'habitude, nous allons commencer par visualiser nos datasets. Plus précisément, nous avons à dispositions deux différents datasets. \n",
    "1. Un dataset d'entrainement appelé training dataset, que nous allons utiliser pour entraîner notre modèle, qu'on peut trouver dans le fichier $\\texttt{ex3_training.txt}$.\n",
    "2. Un dataset d'évaluation appelé validation dataset, que nous allons utiliser pour évaluer notre modèle et déterminer nos hyperparamètre (le degré du polynôme d'interpolation dans notre cas) et qu'on peut trouver dans le fichier $\\texttt{ex3_validation.txt}$.\n",
    "\n"
   ]
  },
  {
   "cell_type": "code",
   "execution_count": 20,
   "id": "89af4228",
   "metadata": {},
   "outputs": [],
   "source": [
    "with open('data/ex3_training.txt') as f2:\n",
    "    train_data = np.loadtxt(f2, delimiter = ' ',dtype = 'float', usecols = None)\n",
    "\n",
    "X_train = train_data[0]\n",
    "Y_train = train_data[1]\n",
    "\n",
    "\n",
    "with open('data/ex3_validation.txt') as f2:\n",
    "    eval_data = np.loadtxt(f2, delimiter = ' ',dtype = 'float', usecols = None)\n",
    "X_eval = eval_data[0]\n",
    "Y_eval = eval_data[1]"
   ]
  },
  {
   "cell_type": "markdown",
   "id": "60921292",
   "metadata": {},
   "source": [
    "Pour commencer, nous pouvons déjà faire un plot de ces deux datasets."
   ]
  },
  {
   "cell_type": "code",
   "execution_count": null,
   "id": "2f53b37d",
   "metadata": {},
   "outputs": [
    {
     "data": {
      "text/plain": [
       "<matplotlib.legend.Legend at 0x238297d56d0>"
      ]
     },
     "execution_count": 21,
     "metadata": {},
     "output_type": "execute_result"
    }
   ],
   "source": [
    "fig, ax = plt.subplots()\n",
    "\n",
    "simple_scatter(X_train, Y_train, figax=(fig, ax), marker=\"+\", color=\"red\", legend=\"Training Data\")\n",
    "simple_scatter(X_eval, Y_eval, figax=(fig, ax), marker=\"+\", color=\"blue\", legend=\"Validation Data\")\n",
    "\n",
    "ax.legend()"
   ]
  },
  {
   "cell_type": "markdown",
   "id": "2645af65",
   "metadata": {},
   "source": [
    "La couleur des points n'est évidemment pas importante, mais veuillez s'il vous plaît être cohérent sur l'ensemble de cet exercice. Gardez la même couleur pour le jeu de données d'entraînement et le jeu de données de validation tout au long de l'exercice."
   ]
  },
  {
   "cell_type": "markdown",
   "id": "33b7bbf1",
   "metadata": {},
   "source": [
    "### 3.2 Régression polynomiale"
   ]
  },
  {
   "cell_type": "markdown",
   "id": "ed4a53f0",
   "metadata": {},
   "source": [
    "Nous allons maintenant utiliser nos données d'entraînement pour faire une régression polynomiale"
   ]
  },
  {
   "cell_type": "code",
   "execution_count": null,
   "id": "ac7ce31f-998d-4ab3-bbc8-dbff973da70b",
   "metadata": {},
   "outputs": [],
   "source": [
    "def simple_polynomial(x, coeffs, figax=None, dimcount=100, legend=\"\"):\n",
    "    fig, ax = figax if figax is not None else plt.subplots()\n",
    "\n",
    "    x = np.linspace(min(x) - 5, max(x) + 5, dimcount)\n",
    "    y = [np.polyval(coeffs, i) for i in x]\n",
    "\n",
    "    ax.plot(x, y, label=legend)"
   ]
  },
  {
   "cell_type": "code",
   "execution_count": null,
   "id": "0d6d0626",
   "metadata": {},
   "outputs": [],
   "source": [
    "def fit_data(degree, X_train, Y_train, show=False):\n",
    "    \"\"\"\n",
    "    degree: degree of the polynome used for the interpolation\n",
    "    X_train, Y_train:  training data\n",
    "    show: if set to true, this function plot the graph of the interpolation\n",
    "    \"\"\"\n",
    "    coeffs = np.polyfit(X_train, Y_train, degree)\n",
    "\n",
    "    if show:\n",
    "        fig, ax = plt.subplots()\n",
    "        \n",
    "        simple_scatter(X_train, Y_train, figax=(fig, ax), marker=\"+\", color=\"red\", legend=\"X_train\", xlim=(-1.0, 20.0), ylim=(-100, 4000))\n",
    "        simple_polynomial(X_train, coeffs, figax=(fig, ax), legend=\"Régression\")\n",
    "\n",
    "        ax.legend()\n",
    "\n",
    "    return coeffs, None # Je n'ai pas vraiment saisis ce qu'il faudrait retourner comme seconde valeur"
   ]
  },
  {
   "cell_type": "markdown",
   "id": "842897b1",
   "metadata": {},
   "source": [
    "On peut ensuite construire notre fonction 'fit_data' pour déterminer notre regression polynomiale ainsi que faire le plot de cette régression."
   ]
  },
  {
   "cell_type": "code",
   "execution_count": null,
   "id": "0a9b6a7d",
   "metadata": {},
   "outputs": [],
   "source": [
    "with open('data/ex3_training.txt') as f2:\n",
    "    train_data = np.loadtxt(f2, delimiter = ' ',dtype = 'float', usecols = None)\n",
    "\n",
    "X_train = train_data[0]\n",
    "Y_train = train_data[1]\n",
    "\n",
    "_, _ = fit_data(3, X_train, Y_train, True)"
   ]
  },
  {
   "cell_type": "markdown",
   "id": "81a80111",
   "metadata": {},
   "source": [
    "### 3.3 Evaluation de notre modèle"
   ]
  },
  {
   "cell_type": "markdown",
   "id": "9e88e758",
   "metadata": {},
   "source": [
    "Nous allons maintenant construire une fonction qui nous permettra d'évaluer notre modèle."
   ]
  },
  {
   "cell_type": "code",
   "execution_count": null,
   "id": "00accffc",
   "metadata": {},
   "outputs": [],
   "source": [
    "def evaluate_model(parameters, X_eval, Y_eval, show=False):\n",
    "    \"\"\"\n",
    "    Given the parameters of our model (which is expected to be a polynome), \n",
    "    we compute and return the MSE errors of its predictions on X_eval. \n",
    "    If show is set to true, we plot a graph of these predictions\n",
    "    \"\"\"\n",
    "\n",
    "    Y_pred = [np.polyval(parameters, x) for x in X_eval]\n",
    "    error = np.square(Y_eval - Y_pred).mean()\n",
    "    \n",
    "    if show:\n",
    "        fig, ax = plt.subplots()\n",
    "        \n",
    "        simple_scatter(X_eval, Y_eval, figax=(fig, ax), marker=\"+\", color=\"red\", xlab=\"Changement du niveau d'eau\", ylab=\"Ecoulement\", legend=\"X_train\", xlim=(-1.0, 20.0), ylim=(-100, 4000))\n",
    "        simple_polynomial(X_eval, parameters, figax=(fig, ax), legend=\"Régression\")\n",
    "\n",
    "        ax.legend()\n",
    "        \n",
    "    return error"
   ]
  },
  {
   "cell_type": "markdown",
   "id": "3b9a751a",
   "metadata": {},
   "source": [
    "En utilisant, ces deux dernières fonctions, on peut alors calculer les paramètres optimaux de notre d'une régression de degré 2 et tracer notre régression sur le training et la validation dataset."
   ]
  },
  {
   "cell_type": "code",
   "execution_count": null,
   "id": "0fcac33d",
   "metadata": {},
   "outputs": [],
   "source": [
    "with open('data/ex3_training.txt') as f2:\n",
    "    train_data = np.loadtxt(f2, delimiter = ' ',dtype = 'float', usecols = None)\n",
    "\n",
    "X_train = train_data[0]\n",
    "Y_train = train_data[1]\n",
    "\n",
    "parameters, _ = fit_data(2, X_train, Y_train, True)\n",
    "\n",
    "with open('data/ex3_validation.txt') as f2:\n",
    "    eval_data = np.loadtxt(f2, delimiter = ' ',dtype = 'float', usecols = None)\n",
    "X_eval =eval_data[0]\n",
    "Y_eval =eval_data[1]\n",
    "\n",
    "_ = evaluate_model(parameters, X_eval, Y_eval, show=True)"
   ]
  },
  {
   "cell_type": "markdown",
   "id": "69f0e835",
   "metadata": {},
   "source": [
    "### 3.4 Under vs Overfitting"
   ]
  },
  {
   "cell_type": "markdown",
   "id": "45709766",
   "metadata": {},
   "source": [
    "Nous allons maintenant utiliser les deux fonctions construites en $3.2$ et $3.3$ pour évaluer nos modèles en fonction du degré du polynôme d'interpolation. Pour commencer, nous allons déjà implémenter une fonction qui va construire le polynôme d'interpolation et calculer son erreur sur le training et le validation dataset pour des degrés variant entre deg_min et deg_max. Cette fonction, va retourner ces erreurs sous forme de deux vecteurs de dimensions (deg_max - deg_min)."
   ]
  },
  {
   "cell_type": "code",
   "execution_count": null,
   "id": "ec1fbfb5",
   "metadata": {},
   "outputs": [],
   "source": [
    "def compute_error(deg_min, deg_max, X_train, Y_train, X_val, Y_val):\n",
    "    \"\"\"\n",
    "    This function build the polynomial interpolation, using (X_train and Y_train) datasets and evaluate it on (X_val, Y_val)\n",
    "    and compute the train and validation errors.\n",
    "    It builds a such interpolation for all degree between deg_min and deg_max. All training and validation errors are stored and \n",
    "    returned.\n",
    "    \"\"\"\n",
    "    train_errors = np.arange(deg_min, deg_max)\n",
    "    val_errors = np.arange(deg_min, deg_max)\n",
    "    \n",
    "    for i in range(deg_max):\n",
    "        coeffs, _ = fit_data(deg_min + i, X_train, Y_train, show=False)\n",
    "        train_errors[i] = evaluate_model(coeffs, X_train, Y_train)\n",
    "        val_errors[i] = evaluate_model(coeffs, X_val, Y_val)\n",
    "        \n",
    "    return train_errors, val_errors"
   ]
  },
  {
   "cell_type": "markdown",
   "id": "71c1d52b",
   "metadata": {},
   "source": [
    "En utilisant cette fonction, on peut alors tracer la validation et training erreur en fonction du degré du polynôme d'interpolation."
   ]
  },
  {
   "cell_type": "code",
   "execution_count": null,
   "id": "b2530777",
   "metadata": {},
   "outputs": [],
   "source": [
    "with open('data/ex3_training.txt') as f2:\n",
    "    train_data = np.loadtxt(f2, delimiter = ' ',dtype = 'float', usecols = None)\n",
    "\n",
    "X_train = train_data[0]\n",
    "Y_train = train_data[1]\n",
    "min_degree = 0\n",
    "max_degree = 9\n",
    "\n",
    "train_errors, val_errors = compute_error(min_degree, max_degree, X_train, Y_train, X_eval, Y_eval)"
   ]
  },
  {
   "cell_type": "code",
   "execution_count": null,
   "id": "ae10ce42-87cb-4cb5-8bf5-024ff5adcf3a",
   "metadata": {},
   "outputs": [],
   "source": [
    "fig, ax = plt.subplots()\n",
    "\n",
    "x = np.arange(min_degree, max_degree)\n",
    "\n",
    "ax.plot(x, train_errors, color=\"red\", label=\"Train errors\")\n",
    "ax.plot(x, val_errors, color=\"blue\", label=\"Validation errors\")\n",
    "\n",
    "ax.set_xlabel(\"Degré du polynôme d'interpolation\")\n",
    "ax.set_ylabel(\"Erreurs\")\n",
    "\n",
    "ax.legend()"
   ]
  },
  {
   "cell_type": "markdown",
   "id": "f1f33c1d",
   "metadata": {},
   "source": [
    "Comme on peut le voir ci-dessus, lorsque notre modèle est de degré petit, l'erreur sur le training et le validation dataset est grand. Dans ce cas, nous sommes en présence d'underfitting. Notre modèle n'est pas assez complexe pour s'adapter à la complexité des données avec lesquelles nous travaillons.\n"
   ]
  },
  {
   "cell_type": "markdown",
   "id": "0949c34a",
   "metadata": {},
   "source": [
    "Lorsque notre polynôme est degré grand, l'erreur sur notre training dataset est très petite mais celle sur le validation dataset explose. Nous sommes en présence d'overfitting. Notre modèle est trop complexe pour nos données. Il apprend des caractéristiques non-pertinentes des données comme du bruit."
   ]
  }
 ],
 "metadata": {
  "kernelspec": {
   "display_name": "Python 3 (ipykernel)",
   "language": "python",
   "name": "python3"
  },
  "language_info": {
   "codemirror_mode": {
    "name": "ipython",
    "version": 3
   },
   "file_extension": ".py",
   "mimetype": "text/x-python",
   "name": "python",
   "nbconvert_exporter": "python",
   "pygments_lexer": "ipython3",
   "version": "3.12.0"
  }
 },
 "nbformat": 4,
 "nbformat_minor": 5
}
