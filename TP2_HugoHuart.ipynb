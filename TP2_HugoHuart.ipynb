{
 "cells": [
  {
   "cell_type": "markdown",
   "id": "b13c57c2",
   "metadata": {},
   "source": [
    "# HEIG-Vd - Apprentissage supervisé (APV)"
   ]
  },
  {
   "cell_type": "markdown",
   "id": "00163928",
   "metadata": {},
   "source": [
    "## Travail Pratique 02 - Régression logistique"
   ]
  },
  {
   "cell_type": "markdown",
   "id": "78bab2ca",
   "metadata": {},
   "source": [
    "<div class=\"alert alert-block alert-success\">\n",
    "<b>Informations générales </b>\n",
    "</div>\n",
    "\n",
    "**Professeur**: Stephan Robert\n",
    "\n",
    "**Assistant(s)**: Félicien Hêche\n",
    "\n",
    "**Contact**: stephan.o.robert@gmail.com, felicien.heche@gmail.com ou via Teams\n",
    "\n",
    "**Rendu**: \n",
    "\n",
    "- Date: 18 ocrobre 2023 \n",
    "- Modalité: Travail individuel. Une fois complétées, copiez les réponses dans le ficher \"**TP2_APV_S1-2023_Nom_Prenom.*****\" (*** = ce que vous voulez qui soit lisible pour nous: .pdf, .html, ...) en remplaçant Nom et Prenom par les votres puis uploader votre fichier sur Cyberlearn.\n",
    "- Note: Ce TP est noté sur 6.\n",
    "\n",
    "**Étudiant**:\n",
    "\n",
    "- Prénom Nom\n",
    "\n",
    "<div class=\"alert alert-block alert-success\">\n",
    "\n",
    "<b>But du TP </b>\n",
    "</div>\n",
    "\n",
    "Le but de ce deuxième TP est d'étudier la régression logistique à une seule variable. \n",
    "\n",
    "\n",
    "<!---\n",
    "<div class=\"alert alert-block alert-info\">\n",
    "<b>Rappel </b>\n",
    "</div>\n",
    "-->\n",
    "\n",
    "<div class=\"alert alert-block alert-success\">\n",
    "<b>Table des matières </b>\n",
    "</div>\n",
    "\n",
    "1. Régression logistique\n",
    ">* Visualisation des données\n",
    ">* Implémentation\n",
    ">* Loss function et gradient\n",
    ">* Optimisation des paramètres\n",
    ">* Evaluation de la régression logistique\n",
    "\n",
    "2. Régularisation de la fonction logistique\n",
    ">* Data visualisation\n",
    ">* Kernel trick\n",
    ">* Loss function et gradient\n",
    ">* Seuil de décision\n",
    "\n",
    "3. Régression polynomiale\n",
    ">* Visualisation du dataset\n",
    ">* Régression polynomiale\n",
    ">* Evaluation de notre modèle\n",
    ">* Under vs Overfitting\n"
   ]
  },
  {
   "cell_type": "markdown",
   "id": "545e9942",
   "metadata": {},
   "source": [
    "## 1. Régression logistique"
   ]
  },
  {
   "cell_type": "markdown",
   "id": "ad51eb07",
   "metadata": {},
   "source": [
    "Pour ce premier exercice, nous allons construire une régression logistique afin de déterminer si un étudiant doit être accepté dans une université ou non. Pour décider de cela, nous avons à notre disposition les résultats de chaque étudiant à deux examens. Nous possédons également, des données historiques des étudiants des autres années. Plus précisément, nous connaissons leur score à ce même examens ainsi que la décision d'admissions. Ces informations sont contenues dans un dataset. "
   ]
  },
  {
   "cell_type": "markdown",
   "id": "26973e8f",
   "metadata": {},
   "source": [
    "Nous allons donc construire un classificateur qui estime la probabilité d'admission, basé sur le score aux deux examens."
   ]
  },
  {
   "cell_type": "markdown",
   "id": "20e7f990",
   "metadata": {},
   "source": [
    "### 1.1 Visualisation des données"
   ]
  },
  {
   "cell_type": "markdown",
   "id": "6625ec54",
   "metadata": {},
   "source": [
    "Comme d'habitude, nous allons commencer par essayer de comprendre un minimum les données avec lesquelles nous allons travailler. Pour faire cela, nous allons donc commencer par visualiser ces données."
   ]
  },
  {
   "cell_type": "code",
   "execution_count": 1,
   "id": "0876e86e",
   "metadata": {},
   "outputs": [],
   "source": [
    "import numpy as np\n",
    "import pandas as pd\n",
    "import matplotlib as mpl\n",
    "import matplotlib.pyplot as plt\n",
    "from matplotlib import rc, cm\n",
    "from scipy import optimize"
   ]
  },
  {
   "cell_type": "code",
   "execution_count": 2,
   "id": "008d3fdc",
   "metadata": {},
   "outputs": [],
   "source": [
    "with open('data/ex2data1.txt') as f1:\n",
    "    dataset_1 = np.loadtxt(f1, delimiter = ',',dtype = 'float', usecols = None)\n",
    "\n",
    "X = dataset_1[:, :-1]\n",
    "Y = dataset_1[:, 2]\n",
    "KO = np.where(Y == 0)[0]\n",
    "OK = np.where(Y)[0]"
   ]
  },
  {
   "cell_type": "code",
   "execution_count": 3,
   "id": "0ab4d561-768e-4e4f-ba9c-c6da17cba189",
   "metadata": {},
   "outputs": [
    {
     "data": {
      "text/plain": [
       "array([[34.62365962, 78.02469282],\n",
       "       [30.28671077, 43.89499752],\n",
       "       [35.84740877, 72.90219803],\n",
       "       [60.18259939, 86.3085521 ],\n",
       "       [79.03273605, 75.34437644],\n",
       "       [45.08327748, 56.31637178],\n",
       "       [61.10666454, 96.51142588],\n",
       "       [75.02474557, 46.55401354],\n",
       "       [76.0987867 , 87.42056972],\n",
       "       [84.43281996, 43.53339331],\n",
       "       [95.86155507, 38.22527806],\n",
       "       [75.01365839, 30.60326323],\n",
       "       [82.30705337, 76.4819633 ],\n",
       "       [69.36458876, 97.71869196],\n",
       "       [39.53833914, 76.03681085],\n",
       "       [53.97105215, 89.20735014],\n",
       "       [69.07014406, 52.74046973],\n",
       "       [67.94685548, 46.67857411],\n",
       "       [70.66150955, 92.92713789],\n",
       "       [76.97878373, 47.57596365],\n",
       "       [67.37202755, 42.83843832],\n",
       "       [89.67677575, 65.79936593],\n",
       "       [50.53478829, 48.85581153],\n",
       "       [34.21206098, 44.2095286 ],\n",
       "       [77.92409145, 68.97235999],\n",
       "       [62.27101367, 69.95445795],\n",
       "       [80.19018075, 44.82162893],\n",
       "       [93.1143888 , 38.80067034],\n",
       "       [61.83020602, 50.25610789],\n",
       "       [38.7858038 , 64.99568096],\n",
       "       [61.37928945, 72.80788731],\n",
       "       [85.40451939, 57.05198398],\n",
       "       [52.10797973, 63.12762377],\n",
       "       [52.04540477, 69.43286012],\n",
       "       [40.23689374, 71.16774802],\n",
       "       [54.63510555, 52.21388588],\n",
       "       [33.91550011, 98.86943574],\n",
       "       [64.17698887, 80.90806059],\n",
       "       [74.78925296, 41.57341523],\n",
       "       [34.18364003, 75.23772034],\n",
       "       [83.90239366, 56.30804622],\n",
       "       [51.54772027, 46.85629026],\n",
       "       [94.44336777, 65.56892161],\n",
       "       [82.36875376, 40.61825516],\n",
       "       [51.04775177, 45.82270146],\n",
       "       [62.22267576, 52.06099195],\n",
       "       [77.19303493, 70.4582    ],\n",
       "       [97.77159928, 86.72782233],\n",
       "       [62.0730638 , 96.76882412],\n",
       "       [91.5649745 , 88.69629255],\n",
       "       [79.94481794, 74.16311935],\n",
       "       [99.27252693, 60.999031  ],\n",
       "       [90.54671411, 43.39060181],\n",
       "       [34.52451385, 60.39634246],\n",
       "       [50.28649612, 49.80453881],\n",
       "       [49.58667722, 59.80895099],\n",
       "       [97.64563396, 68.86157272],\n",
       "       [32.57720017, 95.59854761],\n",
       "       [74.24869137, 69.82457123],\n",
       "       [71.79646206, 78.45356225],\n",
       "       [75.39561147, 85.75993667],\n",
       "       [35.28611282, 47.02051395],\n",
       "       [56.2538175 , 39.26147251],\n",
       "       [30.05882245, 49.59297387],\n",
       "       [44.66826172, 66.45008615],\n",
       "       [66.56089447, 41.09209808],\n",
       "       [40.45755098, 97.53518549],\n",
       "       [49.07256322, 51.88321182],\n",
       "       [80.27957401, 92.11606081],\n",
       "       [66.74671857, 60.99139403],\n",
       "       [32.72283304, 43.30717306],\n",
       "       [64.03932042, 78.03168802],\n",
       "       [72.34649423, 96.22759297],\n",
       "       [60.45788574, 73.0949981 ],\n",
       "       [58.84095622, 75.85844831],\n",
       "       [99.8278578 , 72.36925193],\n",
       "       [47.26426911, 88.475865  ],\n",
       "       [50.4581598 , 75.80985953],\n",
       "       [60.45555629, 42.50840944],\n",
       "       [82.22666158, 42.71987854],\n",
       "       [88.91389642, 69.8037889 ],\n",
       "       [94.83450672, 45.6943068 ],\n",
       "       [67.31925747, 66.58935318],\n",
       "       [57.23870632, 59.51428198],\n",
       "       [80.366756  , 90.9601479 ],\n",
       "       [68.46852179, 85.5943071 ],\n",
       "       [42.07545454, 78.844786  ],\n",
       "       [75.47770201, 90.424539  ],\n",
       "       [78.63542435, 96.64742717],\n",
       "       [52.34800399, 60.76950526],\n",
       "       [94.09433113, 77.15910509],\n",
       "       [90.44855097, 87.50879176],\n",
       "       [55.48216114, 35.57070347],\n",
       "       [74.49269242, 84.84513685],\n",
       "       [89.84580671, 45.35828361],\n",
       "       [83.48916274, 48.3802858 ],\n",
       "       [42.26170081, 87.10385094],\n",
       "       [99.31500881, 68.77540947],\n",
       "       [55.34001756, 64.93193801],\n",
       "       [74.775893  , 89.5298129 ]])"
      ]
     },
     "execution_count": 3,
     "metadata": {},
     "output_type": "execute_result"
    }
   ],
   "source": [
    "X"
   ]
  },
  {
   "cell_type": "code",
   "execution_count": 4,
   "id": "8ad170bd-ddcc-4550-8a4a-cdd846c976e3",
   "metadata": {},
   "outputs": [],
   "source": [
    "def simple_scatter(x, y, figax=None, color=\"red\", edgecolor=None, marker=\"x\", xlab=\"\", ylab=\"\", legend=\"\"):\n",
    "    fig, ax = figax if figax is not None else plt.subplots()\n",
    "    ax.scatter(x, y, color=color, edgecolor=edgecolor, marker=marker, label=legend)\n",
    "    ax.set_xlabel(xlab)\n",
    "    ax.set_ylabel(ylab)"
   ]
  },
  {
   "cell_type": "code",
   "execution_count": 5,
   "id": "5c5b0863",
   "metadata": {},
   "outputs": [
    {
     "data": {
      "text/plain": [
       "<matplotlib.legend.Legend at 0x7f163a7bbf50>"
      ]
     },
     "execution_count": 5,
     "metadata": {},
     "output_type": "execute_result"
    },
    {
     "data": {
      "image/png": "[encoded data removed]",
      "text/plain": [
       "<Figure size 640x480 with 1 Axes>"
      ]
     },
     "metadata": {},
     "output_type": "display_data"
    }
   ],
   "source": [
    "fig, ax = plt.subplots()\n",
    "\n",
    "simple_scatter(X[KO][:, 0], X[KO][:, 1], figax=(fig, ax), marker=\"o\", color=\"darkkhaki\", edgecolor=\"black\", legend=\"Not admitted\")\n",
    "simple_scatter(X[OK][:, 0], X[OK][:, 1], figax=(fig, ax), marker=\"+\", color=\"black\", xlab=\"Exam 1 Score\", ylab=\"Exam 2 Score\", legend=\"Admitted\")\n",
    "\n",
    "ax.legend()"
   ]
  },
  {
   "cell_type": "markdown",
   "id": "055d4184",
   "metadata": {},
   "source": [
    "## 1.2 Implémentation"
   ]
  },
  {
   "cell_type": "markdown",
   "id": "004272ae",
   "metadata": {},
   "source": [
    "Avant de commencer, rappelons que la regression logistique est définie par\n",
    "$$\n",
    "h(\\Theta) = g(\\Theta^{t}x) = \\frac{1}{1 + e^{-\\Theta^{t}x}}\n",
    "$$\n",
    "où $g$ est la sigmoid\n",
    "$$\n",
    "g(z) := \\frac{1}{1 + e^{-z}}\n",
    "$$"
   ]
  },
  {
   "cell_type": "markdown",
   "id": "148494f1-6cad-4491-801e-1b977484b150",
   "metadata": {},
   "source": [
    "Nous allons maintenant implémenter ces fonctions, ce qui va être utile pour le reste du TP."
   ]
  },
  {
   "cell_type": "code",
   "execution_count": 38,
   "id": "3de0e214",
   "metadata": {},
   "outputs": [],
   "source": [
    "def sigmoid(z):\n",
    "    return 1.0 / (1.0 + np.exp(-z))"
   ]
  },
  {
   "cell_type": "code",
   "execution_count": 58,
   "id": "0b1b97da",
   "metadata": {},
   "outputs": [],
   "source": [
    "def h_fct(theta, x):\n",
    "    return sigmoid(np.inner(theta, x))"
   ]
  },
  {
   "cell_type": "code",
   "execution_count": 40,
   "id": "2552c09a",
   "metadata": {},
   "outputs": [
    {
     "data": {
      "text/plain": [
       "3.7200759760208356e-44"
      ]
     },
     "execution_count": 40,
     "metadata": {},
     "output_type": "execute_result"
    }
   ],
   "source": [
    "# testing the sigmoid function\n",
    "sigmoid(-100)"
   ]
  },
  {
   "cell_type": "markdown",
   "id": "eb8bdc69",
   "metadata": {},
   "source": [
    "## 1.3 Loss function et gradient"
   ]
  },
  {
   "cell_type": "markdown",
   "id": "ea4f59bf",
   "metadata": {},
   "source": [
    "Nous allons maintenant implémenter la loss fonction, rappelons que cette dernière est\n",
    "$$\n",
    "J(\\Theta) = -\\frac{1}{m} \\left( \\sum_{i=0}^{m}y_{i}\\log(h(x_{i})) + (1 - y_{i})\\log(1 - h(x_{i}))     \\right)\n",
    "$$\n",
    "Et le gradient de cette fonction est un vecteur de même longueur que $\\Theta$ avec\n",
    "$$\n",
    "\\frac{\\partial J(\\Theta)}{\\partial \\theta_{0}} = \\frac{1}{m} \\sum_{i=1}^{m}(h(x_{i}) - y_{i})\n",
    "$$\n",
    "et pour $j>0$, on obtient.\n",
    "$$\n",
    "\\frac{\\partial J(\\Theta)}{\\partial \\theta_{j}} = \\frac{1}{m} \\sum_{i=1}^{m}(h(x_{i}) - y_{i})(x_{i})_{j}\n",
    "$$\n",
    "Remarquez que le gradient ressemble beaucoup au gradient de la régression linéaire."
   ]
  },
  {
   "cell_type": "code",
   "execution_count": 41,
   "id": "cf7c36bc-5541-49da-b406-dd5ce2b2691b",
   "metadata": {},
   "outputs": [
    {
     "data": {
      "text/plain": [
       "nan"
      ]
     },
     "execution_count": 41,
     "metadata": {},
     "output_type": "execute_result"
    }
   ],
   "source": [
    "0.0 * np.inf"
   ]
  },
  {
   "cell_type": "code",
   "execution_count": 55,
   "id": "a4bf4756",
   "metadata": {},
   "outputs": [],
   "source": [
    "def lossFunction (theta, x, y):\n",
    "    m = len(x)\n",
    "    ret = 0\n",
    "\n",
    "    h = h_fct(theta, x)\n",
    "    return (-1 / m) * np.sum(np.log(h) + (1.0 - y) * np.log(1.0 - h))\n",
    "    #return (-1 / m) * np.sum(np.log(h_fct(theta, x)) + (1 - y) * np.log(1 - h_fct(theta, x)))"
   ]
  },
  {
   "cell_type": "code",
   "execution_count": 56,
   "id": "cfe938ee-cd98-4de7-8ab5-879deed62b7f",
   "metadata": {},
   "outputs": [
    {
     "name": "stderr",
     "output_type": "stream",
     "text": [
      "/tmp/ipykernel_6752/3311232510.py:6: RuntimeWarning: divide by zero encountered in log\n",
      "  return (-1 / m) * np.sum(np.log(h) + (1.0 - y) * np.log(1.0 - h))\n",
      "/tmp/ipykernel_6752/3311232510.py:6: RuntimeWarning: invalid value encountered in multiply\n",
      "  return (-1 / m) * np.sum(np.log(h) + (1.0 - y) * np.log(1.0 - h))\n"
     ]
    },
    {
     "data": {
      "text/plain": [
       "nan"
      ]
     },
     "execution_count": 56,
     "metadata": {},
     "output_type": "execute_result"
    }
   ],
   "source": [
    "lossFunction(np.array([1.0, 1.0, 2.0]), newX, Y)"
   ]
  },
  {
   "cell_type": "markdown",
   "id": "b3d59c17",
   "metadata": {},
   "source": [
    "## 1.4 Optimisation des paramètres"
   ]
  },
  {
   "cell_type": "markdown",
   "id": "be521e02",
   "metadata": {},
   "source": [
    "Dans le TP précédent, nous avons trouvé les paramètres optimaux de la régression linéaire en utilisant notre propre implémentation de la descente du gradient. \n"
   ]
  },
  {
   "cell_type": "markdown",
   "id": "2384a690",
   "metadata": {},
   "source": [
    "En pratique, il est plus commun d'utiliser des packages spécialement conçu pour ce genre de problème. Dans ce TP, nous allons utiliser $\\texttt{scipy.optimize.minimize}$ pour déterminer $\\Theta$. \n",
    "Si la fonction coût a été correctement implémentée $\\texttt{scipy.optimize.minimize}$ va converger vers les paramètres optimaux $\\Theta$."
   ]
  },
  {
   "cell_type": "code",
   "execution_count": 48,
   "id": "dea90ce4",
   "metadata": {},
   "outputs": [
    {
     "name": "stdout",
     "output_type": "stream",
     "text": [
      "ret is  0\n",
      "h_fct 0.5\n",
      "y[i] 0.0\n",
      "ret is  -0.6931471805599453\n",
      "h_fct 0.5\n",
      "y[i] 0.0\n",
      "ret is  -1.3862943611198906\n",
      "h_fct 0.5\n",
      "y[i] 0.0\n",
      "ret is  -2.0794415416798357\n",
      "h_fct 0.5\n",
      "y[i] 1.0\n",
      "ret is  -2.772588722239781\n",
      "h_fct 0.5\n",
      "y[i] 1.0\n",
      "ret is  -3.4657359027997265\n",
      "h_fct 0.5\n",
      "y[i] 0.0\n",
      "ret is  -4.1588830833596715\n",
      "h_fct 0.5\n",
      "y[i] 1.0\n",
      "ret is  -4.852030263919617\n",
      "h_fct 0.5\n",
      "y[i] 1.0\n",
      "ret is  -5.545177444479562\n",
      "h_fct 0.5\n",
      "y[i] 1.0\n",
      "ret is  -6.238324625039508\n",
      "h_fct 0.5\n",
      "y[i] 1.0\n",
      "ret is  -6.931471805599453\n",
      "h_fct 0.5\n",
      "y[i] 0.0\n",
      "ret is  -7.6246189861593985\n",
      "h_fct 0.5\n",
      "y[i] 0.0\n",
      "ret is  -8.317766166719343\n",
      "h_fct 0.5\n",
      "y[i] 1.0\n",
      "ret is  -9.010913347279288\n",
      "h_fct 0.5\n",
      "y[i] 1.0\n",
      "ret is  -9.704060527839234\n",
      "h_fct 0.5\n",
      "y[i] 0.0\n",
      "ret is  -10.39720770839918\n",
      "h_fct 0.5\n",
      "y[i] 1.0\n",
      "ret is  -11.090354888959125\n",
      "h_fct 0.5\n",
      "y[i] 1.0\n",
      "ret is  -11.78350206951907\n",
      "h_fct 0.5\n",
      "y[i] 0.0\n",
      "ret is  -12.476649250079015\n",
      "h_fct 0.5\n",
      "y[i] 1.0\n",
      "ret is  -13.16979643063896\n",
      "h_fct 0.5\n",
      "y[i] 1.0\n",
      "ret is  -13.862943611198906\n",
      "h_fct 0.5\n",
      "y[i] 0.0\n",
      "ret is  -14.556090791758852\n",
      "h_fct 0.5\n",
      "y[i] 1.0\n",
      "ret is  -15.249237972318797\n",
      "h_fct 0.5\n",
      "y[i] 0.0\n",
      "ret is  -15.942385152878742\n",
      "h_fct 0.5\n",
      "y[i] 0.0\n",
      "ret is  -16.635532333438686\n",
      "h_fct 0.5\n",
      "y[i] 1.0\n",
      "ret is  -17.32867951399863\n",
      "h_fct 0.5\n",
      "y[i] 1.0\n",
      "ret is  -18.021826694558573\n",
      "h_fct 0.5\n",
      "y[i] 1.0\n",
      "ret is  -18.714973875118517\n",
      "h_fct 0.5\n",
      "y[i] 0.0\n",
      "ret is  -19.40812105567846\n",
      "h_fct 0.5\n",
      "y[i] 0.0\n",
      "ret is  -20.101268236238404\n",
      "h_fct 0.5\n",
      "y[i] 0.0\n",
      "ret is  -20.794415416798348\n",
      "h_fct 0.5\n",
      "y[i] 1.0\n",
      "ret is  -21.48756259735829\n",
      "h_fct 0.5\n",
      "y[i] 1.0\n",
      "ret is  -22.180709777918235\n",
      "h_fct 0.5\n",
      "y[i] 0.0\n",
      "ret is  -22.87385695847818\n",
      "h_fct 0.5\n",
      "y[i] 1.0\n",
      "ret is  -23.567004139038122\n",
      "h_fct 0.5\n",
      "y[i] 0.0\n",
      "ret is  -24.260151319598066\n",
      "h_fct 0.5\n",
      "y[i] 0.0\n",
      "ret is  -24.95329850015801\n",
      "h_fct 0.5\n",
      "y[i] 0.0\n",
      "ret is  -25.646445680717953\n",
      "h_fct 0.5\n",
      "y[i] 1.0\n",
      "ret is  -26.339592861277897\n",
      "h_fct 0.5\n",
      "y[i] 0.0\n",
      "ret is  -27.03274004183784\n",
      "h_fct 0.5\n",
      "y[i] 0.0\n",
      "ret is  -27.725887222397784\n",
      "h_fct 0.5\n",
      "y[i] 1.0\n",
      "ret is  -28.419034402957728\n",
      "h_fct 0.5\n",
      "y[i] 0.0\n",
      "ret is  -29.11218158351767\n",
      "h_fct 0.5\n",
      "y[i] 1.0\n",
      "ret is  -29.805328764077615\n",
      "h_fct 0.5\n",
      "y[i] 0.0\n",
      "ret is  -30.49847594463756\n",
      "h_fct 0.5\n",
      "y[i] 0.0\n",
      "ret is  -31.191623125197502\n",
      "h_fct 0.5\n",
      "y[i] 0.0\n",
      "ret is  -31.884770305757446\n",
      "h_fct 0.5\n",
      "y[i] 1.0\n",
      "ret is  -32.57791748631739\n",
      "h_fct 0.5\n",
      "y[i] 1.0\n",
      "ret is  -33.271064666877336\n",
      "h_fct 0.5\n",
      "y[i] 1.0\n",
      "ret is  -33.964211847437284\n",
      "h_fct 0.5\n",
      "y[i] 1.0\n",
      "ret is  -34.65735902799723\n",
      "h_fct 0.5\n",
      "y[i] 1.0\n",
      "ret is  -35.35050620855718\n",
      "h_fct 0.5\n",
      "y[i] 1.0\n",
      "ret is  -36.043653389117125\n",
      "h_fct 0.5\n",
      "y[i] 1.0\n",
      "ret is  -36.73680056967707\n",
      "h_fct 0.5\n",
      "y[i] 0.0\n",
      "ret is  -37.42994775023702\n",
      "h_fct 0.5\n",
      "y[i] 0.0\n",
      "ret is  -38.12309493079697\n",
      "h_fct 0.5\n",
      "y[i] 0.0\n",
      "ret is  -38.816242111356914\n",
      "h_fct 0.5\n",
      "y[i] 1.0\n",
      "ret is  -39.50938929191686\n",
      "h_fct 0.5\n",
      "y[i] 0.0\n",
      "ret is  -40.20253647247681\n",
      "h_fct 0.5\n",
      "y[i] 1.0\n",
      "ret is  -40.895683653036755\n",
      "h_fct 0.5\n",
      "y[i] 1.0\n",
      "ret is  -41.5888308335967\n",
      "h_fct 0.5\n",
      "y[i] 1.0\n",
      "ret is  -42.28197801415665\n",
      "h_fct 0.5\n",
      "y[i] 0.0\n",
      "ret is  -42.9751251947166\n",
      "h_fct 0.5\n",
      "y[i] 0.0\n",
      "ret is  -43.668272375276544\n",
      "h_fct 0.5\n",
      "y[i] 0.0\n",
      "ret is  -44.36141955583649\n",
      "h_fct 0.5\n",
      "y[i] 0.0\n",
      "ret is  -45.05456673639644\n",
      "h_fct 0.5\n",
      "y[i] 0.0\n",
      "ret is  -45.747713916956386\n",
      "h_fct 0.5\n",
      "y[i] 1.0\n",
      "ret is  -46.44086109751633\n",
      "h_fct 0.5\n",
      "y[i] 0.0\n",
      "ret is  -47.13400827807628\n",
      "h_fct 0.5\n",
      "y[i] 1.0\n",
      "ret is  -47.82715545863623\n",
      "h_fct 0.5\n",
      "y[i] 1.0\n",
      "ret is  -48.520302639196174\n",
      "h_fct 0.5\n",
      "y[i] 0.0\n",
      "ret is  -49.21344981975612\n",
      "h_fct 0.5\n",
      "y[i] 1.0\n",
      "ret is  -49.90659700031607\n",
      "h_fct 0.5\n",
      "y[i] 1.0\n",
      "ret is  -50.599744180876016\n",
      "h_fct 0.5\n",
      "y[i] 1.0\n",
      "ret is  -51.29289136143596\n",
      "h_fct 0.5\n",
      "y[i] 1.0\n",
      "ret is  -51.98603854199591\n",
      "h_fct 0.5\n",
      "y[i] 1.0\n",
      "ret is  -52.67918572255586\n",
      "h_fct 0.5\n",
      "y[i] 1.0\n",
      "ret is  -53.372332903115804\n",
      "h_fct 0.5\n",
      "y[i] 1.0\n",
      "ret is  -54.06548008367575\n",
      "h_fct 0.5\n",
      "y[i] 0.0\n",
      "ret is  -54.7586272642357\n",
      "h_fct 0.5\n",
      "y[i] 0.0\n",
      "ret is  -55.451774444795646\n",
      "h_fct 0.5\n",
      "y[i] 1.0\n",
      "ret is  -56.14492162535559\n",
      "h_fct 0.5\n",
      "y[i] 1.0\n",
      "ret is  -56.83806880591554\n",
      "h_fct 0.5\n",
      "y[i] 1.0\n",
      "ret is  -57.53121598647549\n",
      "h_fct 0.5\n",
      "y[i] 1.0\n",
      "ret is  -58.224363167035435\n",
      "h_fct 0.5\n",
      "y[i] 1.0\n",
      "ret is  -58.91751034759538\n",
      "h_fct 0.5\n",
      "y[i] 1.0\n",
      "ret is  -59.61065752815533\n",
      "h_fct 0.5\n",
      "y[i] 0.0\n",
      "ret is  -60.303804708715276\n",
      "h_fct 0.5\n",
      "y[i] 1.0\n",
      "ret is  -60.99695188927522\n",
      "h_fct 0.5\n",
      "y[i] 1.0\n",
      "ret is  -61.69009906983517\n",
      "h_fct 0.5\n",
      "y[i] 0.0\n",
      "ret is  -62.38324625039512\n",
      "h_fct 0.5\n",
      "y[i] 1.0\n",
      "ret is  -63.076393430955065\n",
      "h_fct 0.5\n",
      "y[i] 1.0\n",
      "ret is  -63.76954061151501\n",
      "h_fct 0.5\n",
      "y[i] 0.0\n",
      "ret is  -64.46268779207496\n",
      "h_fct 0.5\n",
      "y[i] 1.0\n",
      "ret is  -65.1558349726349\n",
      "h_fct 0.5\n",
      "y[i] 1.0\n",
      "ret is  -65.84898215319485\n",
      "h_fct 0.5\n",
      "y[i] 1.0\n",
      "ret is  -66.5421293337548\n",
      "h_fct 0.5\n",
      "y[i] 1.0\n",
      "ret is  -67.23527651431475\n",
      "h_fct 0.5\n",
      "y[i] 1.0\n",
      "ret is  -67.9284236948747\n",
      "h_fct 0.5\n",
      "y[i] 1.0\n",
      "ret is  -68.62157087543464\n",
      "h_fct 0.5\n",
      "y[i] 1.0\n"
     ]
    },
    {
     "data": {
      "text/plain": [
       "0.693147180559946"
      ]
     },
     "execution_count": 48,
     "metadata": {},
     "output_type": "execute_result"
    }
   ],
   "source": [
    "# TODO: add a '1' to the first component of each data x\n",
    "# Each data point (x_{1}, x_{2}) should become (1, x_{1}, x_{2})\n",
    "# initial theta values\n",
    "theta = (0, 0, 0)\n",
    "newX = np.concatenate((np.ones((100, 1)), X), axis=1)\n",
    "\n",
    "lossFunction(theta, newX, Y)\n",
    "# apply optimization\n",
    "# TODO: compute the optimal parameter"
   ]
  },
  {
   "cell_type": "markdown",
   "id": "f2fa2ff8",
   "metadata": {},
   "source": [
    "On peut maintenant utiliser ce paramètres $\\Theta$ pour tracer un seuil de jugement sur le training dataset."
   ]
  },
  {
   "cell_type": "code",
   "execution_count": 13,
   "id": "c4607417",
   "metadata": {},
   "outputs": [],
   "source": [
    "# TODO: plot the data and the decision boundary"
   ]
  },
  {
   "cell_type": "markdown",
   "id": "babde9db",
   "metadata": {},
   "source": [
    "### 1.5 Evaluation de la régression logisitique"
   ]
  },
  {
   "cell_type": "markdown",
   "id": "58d52370",
   "metadata": {},
   "source": [
    "Maintenant que nous connaissons les paramètres optimaux de notre régression logistique, il est possible de l'utiliser afin de savoir pour décider si un étudiant doit être accepté ou pas. Pour un étudiant avec un score de $45$ à l'examen $1$ et $85$ à l'examen $2$. Nous devrions trouver un score d'environ $0.7763$."
   ]
  },
  {
   "cell_type": "code",
   "execution_count": 14,
   "id": "9ce276dc",
   "metadata": {},
   "outputs": [],
   "source": [
    "# TODO compute the score of a student who has a score of 45 at the first test and 85 at the second."
   ]
  },
  {
   "cell_type": "markdown",
   "id": "df808d17",
   "metadata": {},
   "source": [
    "## 2. Régularisation de la fonction logistique"
   ]
  },
  {
   "cell_type": "markdown",
   "id": "07db2edd",
   "metadata": {},
   "source": [
    "###  2.1 Data visualisation"
   ]
  },
  {
   "cell_type": "markdown",
   "id": "a4db12a6",
   "metadata": {},
   "source": [
    "Pour cet exercice, nous allons utiliser un nouveau dataset. Ce dataset, que vous pouvez trouver dans $\\texttt{ex2data2.txt}$, contient le score de puces éléctroniques à deux différents tests ainsi que si la puce a été jugée conforme à certains critères de qualité ou pas. Plus précisément, $y$ vaut un si la puce a été jugée conforme aux critères de qualités et $y=0$ sinon. Comme avant, commençons par visualiser notre dataset."
   ]
  },
  {
   "cell_type": "code",
   "execution_count": 15,
   "id": "30e29ea1",
   "metadata": {},
   "outputs": [
    {
     "ename": "FileNotFoundError",
     "evalue": "[Errno 2] No such file or directory: 'ex2data2.txt'",
     "output_type": "error",
     "traceback": [
      "\u001b[0;31m---------------------------------------------------------------------------\u001b[0m",
      "\u001b[0;31mFileNotFoundError\u001b[0m                         Traceback (most recent call last)",
      "Cell \u001b[0;32mIn[15], line 1\u001b[0m\n\u001b[0;32m----> 1\u001b[0m \u001b[38;5;28;01mwith\u001b[39;00m \u001b[38;5;28;43mopen\u001b[39;49m\u001b[43m(\u001b[49m\u001b[38;5;124;43m'\u001b[39;49m\u001b[38;5;124;43mex2data2.txt\u001b[39;49m\u001b[38;5;124;43m'\u001b[39;49m\u001b[43m)\u001b[49m \u001b[38;5;28;01mas\u001b[39;00m f2:\n\u001b[1;32m      2\u001b[0m     dataset_2 \u001b[38;5;241m=\u001b[39m np\u001b[38;5;241m.\u001b[39mloadtxt(f2, delimiter \u001b[38;5;241m=\u001b[39m \u001b[38;5;124m'\u001b[39m\u001b[38;5;124m,\u001b[39m\u001b[38;5;124m'\u001b[39m,dtype \u001b[38;5;241m=\u001b[39m \u001b[38;5;124m'\u001b[39m\u001b[38;5;124mfloat\u001b[39m\u001b[38;5;124m'\u001b[39m, usecols \u001b[38;5;241m=\u001b[39m \u001b[38;5;28;01mNone\u001b[39;00m)\n\u001b[1;32m      4\u001b[0m X \u001b[38;5;241m=\u001b[39m dataset_2[:, :\u001b[38;5;241m-\u001b[39m\u001b[38;5;241m1\u001b[39m]\n",
      "File \u001b[0;32m/usr/lib/python3.11/site-packages/IPython/core/interactiveshell.py:286\u001b[0m, in \u001b[0;36m_modified_open\u001b[0;34m(file, *args, **kwargs)\u001b[0m\n\u001b[1;32m    279\u001b[0m \u001b[38;5;28;01mif\u001b[39;00m file \u001b[38;5;129;01min\u001b[39;00m {\u001b[38;5;241m0\u001b[39m, \u001b[38;5;241m1\u001b[39m, \u001b[38;5;241m2\u001b[39m}:\n\u001b[1;32m    280\u001b[0m     \u001b[38;5;28;01mraise\u001b[39;00m \u001b[38;5;167;01mValueError\u001b[39;00m(\n\u001b[1;32m    281\u001b[0m         \u001b[38;5;124mf\u001b[39m\u001b[38;5;124m\"\u001b[39m\u001b[38;5;124mIPython won\u001b[39m\u001b[38;5;124m'\u001b[39m\u001b[38;5;124mt let you open fd=\u001b[39m\u001b[38;5;132;01m{\u001b[39;00mfile\u001b[38;5;132;01m}\u001b[39;00m\u001b[38;5;124m by default \u001b[39m\u001b[38;5;124m\"\u001b[39m\n\u001b[1;32m    282\u001b[0m         \u001b[38;5;124m\"\u001b[39m\u001b[38;5;124mas it is likely to crash IPython. If you know what you are doing, \u001b[39m\u001b[38;5;124m\"\u001b[39m\n\u001b[1;32m    283\u001b[0m         \u001b[38;5;124m\"\u001b[39m\u001b[38;5;124myou can use builtins\u001b[39m\u001b[38;5;124m'\u001b[39m\u001b[38;5;124m open.\u001b[39m\u001b[38;5;124m\"\u001b[39m\n\u001b[1;32m    284\u001b[0m     )\n\u001b[0;32m--> 286\u001b[0m \u001b[38;5;28;01mreturn\u001b[39;00m \u001b[43mio_open\u001b[49m\u001b[43m(\u001b[49m\u001b[43mfile\u001b[49m\u001b[43m,\u001b[49m\u001b[43m \u001b[49m\u001b[38;5;241;43m*\u001b[39;49m\u001b[43margs\u001b[49m\u001b[43m,\u001b[49m\u001b[43m \u001b[49m\u001b[38;5;241;43m*\u001b[39;49m\u001b[38;5;241;43m*\u001b[39;49m\u001b[43mkwargs\u001b[49m\u001b[43m)\u001b[49m\n",
      "\u001b[0;31mFileNotFoundError\u001b[0m: [Errno 2] No such file or directory: 'ex2data2.txt'"
     ]
    }
   ],
   "source": [
    "with open('ex2data2.txt') as f2:\n",
    "    dataset_2 = np.loadtxt(f2, delimiter = ',',dtype = 'float', usecols = None)\n",
    "    \n",
    "X = dataset_2[:, :-1]\n",
    "Y = dataset_2[:, 2]\n",
    "KO = np.where(Y == 0)[0]\n",
    "OK = np.where(Y)[0]"
   ]
  },
  {
   "cell_type": "code",
   "execution_count": null,
   "id": "ad26ca0c",
   "metadata": {},
   "outputs": [],
   "source": [
    "# TODO: plot the data"
   ]
  },
  {
   "cell_type": "markdown",
   "id": "d64cfec1",
   "metadata": {},
   "source": [
    "Remarquer qu'on ne peut pas ne pas séparer les $y=1$ et les $y=0$ par une fonction linéaire. Par conséquent, une application directe de la régression logistique fournira de mauvais résultats sur ce dataset."
   ]
  },
  {
   "cell_type": "markdown",
   "id": "5affc7e4",
   "metadata": {},
   "source": [
    "### 2.2 Kernel trick"
   ]
  },
  {
   "cell_type": "markdown",
   "id": "f7de27ad",
   "metadata": {},
   "source": [
    "Une manière de contourner cette limitation est de plonger nos données initial dans un espace de plus grande dimension où il sera possible de séparer nos points linéairement. C'est ce que nous appelons le 'kernel trick' (astuce du noyau)."
   ]
  },
  {
   "cell_type": "markdown",
   "id": "cc8edca9",
   "metadata": {},
   "source": [
    "Pour faire cela, nous allons utiliser une fonction 'mapFeature' défini par\n",
    "$$\n",
    "(x_{1}, x_{2}) \\mapsto \\left(\n",
    "\\begin{array}{c}\n",
    "1 \\\\\n",
    "x_1 \\\\\n",
    "x_2\\\\\n",
    "x_1^2\\\\\n",
    "x_1x_2\\\\\n",
    "x_2^2\\\\\n",
    "x_1^3\\\\\n",
    "\\vdots \\\\\n",
    "x_1x_2^5\\\\\n",
    "x_2^6\n",
    "\\end{array} \n",
    "\\right)\n",
    "$$\n",
    "plus précisément l'image de $(x_{1}, x_{2})$ est composé des monômes de la forme $x_{1}^{i-j}x_{2}^{j}$ avec $i$ allant de $0$ à $6$ et $j$ allant de $0$ à $i$."
   ]
  },
  {
   "cell_type": "code",
   "execution_count": null,
   "id": "e61a1700",
   "metadata": {},
   "outputs": [],
   "source": [
    "def mapFeature(x1, x2):\n",
    "    # TODO: implement this function"
   ]
  },
  {
   "cell_type": "markdown",
   "id": "1f0c3a6a",
   "metadata": {},
   "source": [
    "Cette fonction va nous permettre de plonger notre dataset de dimension $2$ dans un espace de dimension $28$. Ensuite, nous allons appliquer une régression logistique linéaire dans cette espace, ce qui nous permettra de construire un seuil de décisions qui semblera plus complexe lorsque nour le projeterons dans notre espace inital à deux dimensions. "
   ]
  },
  {
   "cell_type": "code",
   "execution_count": null,
   "id": "c97140e0",
   "metadata": {},
   "outputs": [],
   "source": [
    "map_X = mapFeature(X[:, 0], X[:, 1])"
   ]
  },
  {
   "cell_type": "markdown",
   "id": "766e0167",
   "metadata": {},
   "source": [
    "### 2.3 Loss function et gradient"
   ]
  },
  {
   "cell_type": "markdown",
   "id": "7634dfaa",
   "metadata": {},
   "source": [
    "Cette approche nous permet de construire des modèles plus performants. Mais cela est également plus susceptible de mener à de l'overffiting. Pour éviter cela, nous allons régulariser notre loss fonction. Plus précisément, la loss fonction devient\n",
    "$$\n",
    "J(\\Theta) = -\\frac{1}{m} \\left( \\sum_{i=0}^{m}y_{i}\\log(h(x)_{i}) + (1 - y_{i})\\log(1 - h(x)_{i}) \\right)\n",
    " + \\frac{\\lambda}{2m} \\sum_{j=1}^{n} \\theta_{j}^{2}   \n",
    "$$\n",
    "Noter que la deuxième somme commence seulement à l'indice $1$. Ce qui implique que nous ne régularisons pas sur le terme $\\theta_{0}$. En particulier, les dérivées partielles deviennent\n",
    "$$\n",
    "\\frac{\\partial J(\\mathbf{\\Theta})}{\\partial\\theta_0}=\\frac{1}{m}\\sum_{i=1}^{m}(h(x_i)-y_i)(x_i)_{0} \n",
    "$$\n",
    "pour $j=0$ et pour $j > 1$, \n",
    "$$\n",
    "\\frac{\\partial J(\\mathbf{\\Theta})}{\\partial \\theta_j}=\\left[\\frac{1}{m}\\sum_{i=1}^{m}\\left(h(\\mathbf{x}_i)-y_i\\right)(x_i)_j{+\\frac{\\lambda}{m}\\theta_j}\\right]\n",
    "$$"
   ]
  },
  {
   "cell_type": "code",
   "execution_count": null,
   "id": "b5f00486",
   "metadata": {},
   "outputs": [],
   "source": [
    "def lossFunctionReg (theta, x, y, lamb):\n",
    "    # TODO: implement this function"
   ]
  },
  {
   "cell_type": "markdown",
   "id": "5112b100",
   "metadata": {},
   "source": [
    "### 2.5 Seuil de décision"
   ]
  },
  {
   "cell_type": "markdown",
   "id": "74b4e579",
   "metadata": {},
   "source": [
    "Comme pour l'exercice 1, nous allons maintenant utiliser $\\texttt{scipy.optimize.minimize}$ afin de déterminier les paramètres optimaux."
   ]
  },
  {
   "cell_type": "code",
   "execution_count": null,
   "id": "f7d4fcdd",
   "metadata": {},
   "outputs": [],
   "source": [
    "theta = np.zeros(28)\n",
    "lamb = 0.5\n",
    "# TODO: compute the optimal parameters"
   ]
  },
  {
   "cell_type": "markdown",
   "id": "bb550608",
   "metadata": {},
   "source": [
    "Nous allons maintenant tracer le seuil de décision dans l'espace initial à deux dimensions. Pour faire cela, nous pouvons calculer les valeurs sur une grille (après l'avoir plongé dans l'espace à $28$ dimensions) et tracer les valeurs pour lesquelles les prédictions changent de $y=0$ à $y=1$."
   ]
  },
  {
   "cell_type": "code",
   "execution_count": null,
   "id": "8efadc20",
   "metadata": {},
   "outputs": [],
   "source": [
    "# TODO: plot the decision boundary using the optimal parameters"
   ]
  },
  {
   "cell_type": "markdown",
   "id": "049357ed",
   "metadata": {},
   "source": [
    "Répéter maintenant la procédure ci-dessus en changeant la valeur de $\\lambda$. Que pouvez-vous observer?\n"
   ]
  },
  {
   "cell_type": "markdown",
   "id": "60b25f8f",
   "metadata": {},
   "source": [
    "## 3. Régression polynomiale"
   ]
  },
  {
   "cell_type": "markdown",
   "id": "49a5b364",
   "metadata": {},
   "source": [
    "Dans cette exercice, nous allons construire une régression polynomiale et étudier l'erreur de notre modèle sur le training et le validation dataset en fonction du degré de notre polynôme."
   ]
  },
  {
   "cell_type": "markdown",
   "id": "98245ad2",
   "metadata": {},
   "source": [
    "### 3.1 Visualisation du dataset"
   ]
  },
  {
   "cell_type": "markdown",
   "id": "2c2aaa21",
   "metadata": {},
   "source": [
    "Comme d'habitude, nous allons commencer par visualiser nos datasets. Plus précisément, nous avons à dispositions deux différents datasets. \n",
    "1. Un dataset d'entrainement appelé training dataset, que nous allons utiliser pour entraîner notre modèle, qu'on peut trouver dans le fichier $\\texttt{ex3_training.txt}$.\n",
    "2. Un dataset d'évaluation appelé validation dataset, que nous allons utiliser pour évaluer notre modèle et déterminer nos hyperparamètre (le degré du polynôme d'interpolation dans notre cas) et qu'on peut trouver dans le fichier $\\texttt{ex3_validation.txt}$.\n",
    "\n"
   ]
  },
  {
   "cell_type": "code",
   "execution_count": null,
   "id": "89af4228",
   "metadata": {},
   "outputs": [],
   "source": [
    "with open('ex3_training.txt') as f2:\n",
    "    train_data = np.loadtxt(f2, delimiter = ' ',dtype = 'float', usecols = None)\n",
    "\n",
    "X_train = train_data[0]\n",
    "Y_train = train_data[1]\n",
    "\n",
    "\n",
    "with open('ex3_validation.txt') as f2:\n",
    "    eval_data = np.loadtxt(f2, delimiter = ' ',dtype = 'float', usecols = None)\n",
    "X_eval =eval_data[0]\n",
    "Y_eval =eval_data[1]"
   ]
  },
  {
   "cell_type": "markdown",
   "id": "60921292",
   "metadata": {},
   "source": [
    "Pour commencer, nous pouvons déjà faire un plot de ces deux datasets."
   ]
  },
  {
   "cell_type": "code",
   "execution_count": null,
   "id": "2f53b37d",
   "metadata": {},
   "outputs": [],
   "source": [
    "# TODO: plot this data\n"
   ]
  },
  {
   "cell_type": "markdown",
   "id": "2645af65",
   "metadata": {},
   "source": [
    "La couleur des points n'est évidemment pas importante, mais veuillez s'il vous plaît être cohérent sur l'ensemble de cet exercice. Gardez la même couleur pour le jeu de données d'entraînement et le jeu de données de validation tout au long de l'exercice."
   ]
  },
  {
   "cell_type": "markdown",
   "id": "33b7bbf1",
   "metadata": {},
   "source": [
    "### 3.2 Régression polynomiale"
   ]
  },
  {
   "cell_type": "markdown",
   "id": "ed4a53f0",
   "metadata": {},
   "source": [
    "Nous allons maintenant utiliser nos données d'entraînement pour faire une régression polynomiale"
   ]
  },
  {
   "cell_type": "code",
   "execution_count": null,
   "id": "0d6d0626",
   "metadata": {},
   "outputs": [],
   "source": [
    "def fit_data(degree, X_train, Y_train, show=False):\n",
    "    \"\"\"\n",
    "    degree: degree of the polynome used for the interpolation\n",
    "    X_train, Y_train:  training data\n",
    "    show: if set to true, this function plot the graph of the interpolation\n",
    "    \"\"\"\n",
    "    # TODO: implement this function\n",
    "        "
   ]
  },
  {
   "cell_type": "markdown",
   "id": "842897b1",
   "metadata": {},
   "source": [
    "On peut ensuite construire notre fonction 'fit_data' pour déterminer notre regression polynomiale ainsi que faire le plot de cette régression."
   ]
  },
  {
   "cell_type": "code",
   "execution_count": null,
   "id": "0a9b6a7d",
   "metadata": {},
   "outputs": [],
   "source": [
    "with open('ex3_training.txt') as f2:\n",
    "    train_data = np.loadtxt(f2, delimiter = ' ',dtype = 'float', usecols = None)\n",
    "\n",
    "X_train = train_data[0]\n",
    "Y_train = train_data[1]\n",
    "\n",
    "_, _ = fit_data(3, X_train, Y_train, True)"
   ]
  },
  {
   "cell_type": "markdown",
   "id": "81a80111",
   "metadata": {},
   "source": [
    "### 3.3 Evaluation de notre modèle"
   ]
  },
  {
   "cell_type": "markdown",
   "id": "9e88e758",
   "metadata": {},
   "source": [
    "Nous allons maintenant construire une fonction qui nous permettra d'évaluer notre modèle."
   ]
  },
  {
   "cell_type": "code",
   "execution_count": null,
   "id": "00accffc",
   "metadata": {},
   "outputs": [],
   "source": [
    "def evaluate_model(parameters, X_eval, Y_eval, show=False):\n",
    "    \"\"\"\n",
    "    Given the parameters of our model (which is expected to be a polynome), \n",
    "    we compute and return the MSE errors of its predictions on X_eval. \n",
    "    If show is set to true, we plot a graph of these predictions\n",
    "    \"\"\"\n",
    "    # TODO: implement this function"
   ]
  },
  {
   "cell_type": "markdown",
   "id": "3b9a751a",
   "metadata": {},
   "source": [
    "En utilisant, ces deux dernières fonctions, on peut alors calculer les paramètres optimaux de notre d'une régression de degré 2 et tracer notre régression sur le training et la validation dataset."
   ]
  },
  {
   "cell_type": "code",
   "execution_count": null,
   "id": "0fcac33d",
   "metadata": {},
   "outputs": [],
   "source": [
    "with open('ex3_training.txt') as f2:\n",
    "    train_data = np.loadtxt(f2, delimiter = ' ',dtype = 'float', usecols = None)\n",
    "\n",
    "X_train = train_data[0]\n",
    "Y_train = train_data[1]\n",
    "\n",
    "parameters, _ = fit_data(2, X_train, Y_train, True)\n",
    "\n",
    "with open('ex3_validation.txt') as f2:\n",
    "    eval_data = np.loadtxt(f2, delimiter = ' ',dtype = 'float', usecols = None)\n",
    "X_eval =eval_data[0]\n",
    "Y_eval =eval_data[1]\n",
    "\n",
    "_ = evaluate_model(parameters, X_eval, Y_eval, show=True)"
   ]
  },
  {
   "cell_type": "markdown",
   "id": "69f0e835",
   "metadata": {},
   "source": [
    "### 3.4 Under vs Overfitting"
   ]
  },
  {
   "cell_type": "markdown",
   "id": "45709766",
   "metadata": {},
   "source": [
    "Nous allons maintenant utiliser les deux fonctions construites en $3.2$ et $3.3$ pour évaluer nos modèles en fonction du degré du polynôme d'interpolation. Pour commencer, nous allons déjà implémenter une fonction qui va construire le polynôme d'interpolation et calculer son erreur sur le training et le validation dataset pour des degrés variant entre deg_min et deg_max. Cette fonction, va retourner ces erreurs sous forme de deux vecteurs de dimensions (deg_max - deg_min)."
   ]
  },
  {
   "cell_type": "code",
   "execution_count": null,
   "id": "ec1fbfb5",
   "metadata": {},
   "outputs": [],
   "source": [
    "def compute_error(deg_min, deg_max, X_train, Y_train, X_val, Y_val):\n",
    "    \"\"\"\n",
    "    This function build the polynomial interpolation, using (X_train and Y_train) datasets and evaluate it on (X_val, Y_val)\n",
    "    and compute the train and validation errors.\n",
    "    It builds a such interpolation for all degree between deg_min and deg_max. All training and validation errors are stored and \n",
    "    returned.\n",
    "    \"\"\"\n",
    "    # TODO: implement this function\n",
    "        "
   ]
  },
  {
   "cell_type": "markdown",
   "id": "71c1d52b",
   "metadata": {},
   "source": [
    "En utilisant cette fonction, on peut alors tracer la validation et training erreur en fonction du degré du polynôme d'interpolation."
   ]
  },
  {
   "cell_type": "code",
   "execution_count": null,
   "id": "b2530777",
   "metadata": {},
   "outputs": [],
   "source": [
    "with open('ex3_training.txt') as f2:\n",
    "    train_data = np.loadtxt(f2, delimiter = ' ',dtype = 'float', usecols = None)\n",
    "\n",
    "X_train = train_data[0]\n",
    "Y_train = train_data[1]\n",
    "min_degree = 0\n",
    "max_degree = 9\n",
    "\n",
    "# TODO: plot the validation and train error according to the degree of our poylnomial regression"
   ]
  },
  {
   "cell_type": "markdown",
   "id": "f1f33c1d",
   "metadata": {},
   "source": [
    "Comme on peut le voir ci-dessus, lorsque notre modèle est de degré petit, l'erreur sur le training et le validation dataset est grand. Dans ce cas, nous sommes en présence d'underfitting. Notre modèle n'est pas assez complexe pour s'adapter à la complexité des données avec lesquelles nous travaillons.\n"
   ]
  },
  {
   "cell_type": "markdown",
   "id": "0949c34a",
   "metadata": {},
   "source": [
    "Lorsque notre polynôme est degré grand, l'erreur sur notre training dataset est très petite mais celle sur le validation dataset explose. Nous sommes en présence d'overfitting. Notre modèle est trop complexe pour nos données. Il apprend des caractéristiques non-pertinentes des données comme du bruit."
   ]
  }
 ],
 "metadata": {
  "kernelspec": {
   "display_name": "Python 3 (ipykernel)",
   "language": "python",
   "name": "python3"
  },
  "language_info": {
   "codemirror_mode": {
    "name": "ipython",
    "version": 3
   },
   "file_extension": ".py",
   "mimetype": "text/x-python",
   "name": "python",
   "nbconvert_exporter": "python",
   "pygments_lexer": "ipython3",
   "version": "3.11.5"
  }
 },
 "nbformat": 4,
 "nbformat_minor": 5
}
